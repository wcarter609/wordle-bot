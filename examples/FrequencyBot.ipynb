{
 "cells": [
  {
   "cell_type": "code",
   "execution_count": 1,
   "metadata": {},
   "outputs": [],
   "source": [
    "from wordle_bot.wordle import Wordle\n",
    "from wordle_bot.bots import FrequencyBot\n",
    "from matplotlib import pyplot as plt\n",
    "import pandas as pd\n",
    "from english_words import english_words_lower_set\n",
    "from collections import defaultdict\n",
    "import re\n",
    "import sys\n",
    "sys.path.append('../')\n",
    "\n",
    "\n",
    "%matplotlib inline\n"
   ]
  },
  {
   "cell_type": "markdown",
   "metadata": {},
   "source": [
    "### Basic demonstration\n",
    "\n",
    "First, let's look at how FrequencyBot interacts with wordle.\n",
    "\n",
    "Let's define a wordle game where the target is __depot__. The target word is five letters long, so we can just initialize the FrequencyBot with no additional arguments."
   ]
  },
  {
   "cell_type": "code",
   "execution_count": 2,
   "metadata": {},
   "outputs": [],
   "source": [
    "wdl = Wordle(\"depot\")\n",
    "bot = FrequencyBot()\n"
   ]
  },
  {
   "cell_type": "markdown",
   "metadata": {},
   "source": [
    "Now we can simply loop through iterations of the game, performing the following steps:\n",
    "  1. Get the next prediction from FrequencyBot (`bot.predict()[0][0]`)\n",
    "  2. Submit the guess to Wordle (`wdl.guess(...)`)\n",
    "  3. Send Wordle feedback to FrequencyBot to update its predictions (`bot.update(...)`)\n",
    "\n",
    "We keep looping until FrequencyBot produces the target word, __depot__."
   ]
  },
  {
   "cell_type": "code",
   "execution_count": 3,
   "metadata": {},
   "outputs": [
    {
     "name": "stdout",
     "output_type": "stream",
     "text": [
      "-----------\n",
      "| Bot guessed 'arose'\n",
      "| Result: [0, 0, 1, 0, 1]\n",
      "-----------\n",
      "| Bot guessed 'eliot'\n",
      "| Result: [1, 0, 0, 2, 2]\n",
      "-----------\n",
      "| Bot guessed 'depot'\n",
      "| Result: [2, 2, 2, 2, 2]\n"
     ]
    }
   ],
   "source": [
    "current_guess = None\n",
    "\n",
    "while current_guess != wdl.solution:\n",
    "    current_guess = bot.predict()[0][0]\n",
    "    result = wdl.guess(current_guess)\n",
    "    bot.update(current_guess, result)\n",
    "    print(f\"-----------\")\n",
    "    print(f\"| Bot guessed '{current_guess}'\")\n",
    "    print(f\"| Result: {result}\")\n"
   ]
  },
  {
   "cell_type": "markdown",
   "metadata": {},
   "source": [
    "It only took three guesses!\n",
    "\n",
    "We can review the path FrequencyBot took with the guess log from Wordle.\n",
    "\n",
    "The first element of each tuple is the guessed word, and the second element is the feedback from Wordle:\n",
    "  * 0: the letter in this position is not in the target word\n",
    "  * 1: the letter in this position _is_ in the word, but in a different position\n",
    "  * 2: the letter is in the right position"
   ]
  },
  {
   "cell_type": "code",
   "execution_count": 4,
   "metadata": {},
   "outputs": [
    {
     "data": {
      "text/plain": [
       "[('arose', [0, 0, 1, 0, 1]),\n",
       " ('eliot', [1, 0, 0, 2, 2]),\n",
       " ('depot', [2, 2, 2, 2, 2])]"
      ]
     },
     "execution_count": 4,
     "metadata": {},
     "output_type": "execute_result"
    }
   ],
   "source": [
    "wdl.guesses\n"
   ]
  },
  {
   "cell_type": "markdown",
   "metadata": {},
   "source": [
    "### Overall Performance (5 Letter Words)\n",
    "\n",
    "We might wonder how well FrequencyBot works for any given 5-letter word.\n",
    "\n",
    "We already have a comprehensive list of 5-letter English words, so we can get a pretty good picture by playing Wordle for each target word!\n",
    "\n",
    "The below cell might take a little while to run. There's a little over 3000 words to play through."
   ]
  },
  {
   "cell_type": "code",
   "execution_count": 5,
   "metadata": {},
   "outputs": [],
   "source": [
    "stats = defaultdict(int)\n",
    "words = {w for w in english_words_lower_set if len(\n",
    "    w) == 5 and re.match(r'^\\w+$', w)}\n",
    "\n",
    "for w in words:\n",
    "    wdl = Wordle(w)\n",
    "    bot = FrequencyBot(n_char=len(w))\n",
    "\n",
    "    current_guess = None\n",
    "\n",
    "    while current_guess != wdl.solution:\n",
    "        current_guess = bot.predict()[0][0]\n",
    "        result = wdl.guess(current_guess)\n",
    "        bot.update(current_guess, result)\n",
    "\n",
    "    stats[w] = {\n",
    "        \"n_guesses\": len(wdl.guesses)\n",
    "    }\n"
   ]
  },
  {
   "cell_type": "markdown",
   "metadata": {},
   "source": [
    "Let's put these results into a dataframe so we can evaluate FrequencyBot's performance."
   ]
  },
  {
   "cell_type": "code",
   "execution_count": 6,
   "metadata": {},
   "outputs": [
    {
     "data": {
      "text/plain": [
       "count    3194.000000\n",
       "mean        4.088604\n",
       "std         1.052925\n",
       "min         1.000000\n",
       "25%         3.000000\n",
       "50%         4.000000\n",
       "75%         5.000000\n",
       "max        12.000000\n",
       "Name: n_guesses, dtype: float64"
      ]
     },
     "execution_count": 6,
     "metadata": {},
     "output_type": "execute_result"
    }
   ],
   "source": [
    "results = pd.DataFrame.from_dict(stats, orient='index')\n",
    "results[\"n_guesses\"].describe()\n"
   ]
  },
  {
   "cell_type": "markdown",
   "metadata": {},
   "source": [
    "We can see that on average it takes FrequencyBot about __4 moves to solve the Wordle__. \n",
    "\n",
    "Further, we can see that the 75^th percentile value, __5 moves__, is below the limit of 6 moves, so we know that FrequencyBot is able to solve most possible words.\n",
    "\n",
    "Looking at the extremes, we see that the minimum moves taken was 1. Clearly this isn't surprising since FrequencyBot always starts with the guess \"arose\".\n",
    "\n",
    "More interesting is the maximum number of moves, 12. Let's check out some of the difficult words..."
   ]
  },
  {
   "cell_type": "code",
   "execution_count": 7,
   "metadata": {},
   "outputs": [
    {
     "data": {
      "text/html": [
       "<div>\n",
       "<style scoped>\n",
       "    .dataframe tbody tr th:only-of-type {\n",
       "        vertical-align: middle;\n",
       "    }\n",
       "\n",
       "    .dataframe tbody tr th {\n",
       "        vertical-align: top;\n",
       "    }\n",
       "\n",
       "    .dataframe thead th {\n",
       "        text-align: right;\n",
       "    }\n",
       "</style>\n",
       "<table border=\"1\" class=\"dataframe\">\n",
       "  <thead>\n",
       "    <tr style=\"text-align: right;\">\n",
       "      <th></th>\n",
       "      <th>n_guesses</th>\n",
       "    </tr>\n",
       "  </thead>\n",
       "  <tbody>\n",
       "    <tr>\n",
       "      <th>tater</th>\n",
       "      <td>11</td>\n",
       "    </tr>\n",
       "  </tbody>\n",
       "</table>\n",
       "</div>"
      ],
      "text/plain": [
       "       n_guesses\n",
       "tater         11"
      ]
     },
     "execution_count": 7,
     "metadata": {},
     "output_type": "execute_result"
    }
   ],
   "source": [
    "results[results.n_guesses == 11]\n"
   ]
  },
  {
   "cell_type": "markdown",
   "metadata": {},
   "source": [
    "![image-info](https://i.pinimg.com/originals/79/b6/3e/79b63e273ec0a9dce21a9f6bcf365353.png)\n",
    "\n",
    "Why tater? We can review the wordle game to find out."
   ]
  },
  {
   "cell_type": "code",
   "execution_count": 8,
   "metadata": {},
   "outputs": [
    {
     "name": "stdout",
     "output_type": "stream",
     "text": [
      "| Bot guessed 'arose'\n",
      "| Result: [1, 1, 0, 0, 1]\n",
      "| Bot guessed 'later'\n",
      "| Result: [0, 2, 2, 2, 2]\n",
      "| Bot guessed 'cater'\n",
      "| Result: [0, 2, 2, 2, 2]\n",
      "| Bot guessed 'hater'\n",
      "| Result: [0, 2, 2, 2, 2]\n",
      "| Bot guessed 'dater'\n",
      "| Result: [0, 2, 2, 2, 2]\n",
      "| Bot guessed 'mater'\n",
      "| Result: [0, 2, 2, 2, 2]\n",
      "| Bot guessed 'pater'\n",
      "| Result: [0, 2, 2, 2, 2]\n",
      "| Bot guessed 'bater'\n",
      "| Result: [0, 2, 2, 2, 2]\n",
      "| Bot guessed 'water'\n",
      "| Result: [0, 2, 2, 2, 2]\n",
      "| Bot guessed 'rater'\n",
      "| Result: [1, 2, 2, 2, 2]\n",
      "| Bot guessed 'tater'\n",
      "| Result: [2, 2, 2, 2, 2]\n"
     ]
    }
   ],
   "source": [
    "wdl = Wordle(\"tater\")\n",
    "bot = FrequencyBot()\n",
    "\n",
    "current_guess = None\n",
    "\n",
    "while current_guess != wdl.solution:\n",
    "    current_guess = bot.predict()[0][0]\n",
    "    result = wdl.guess(current_guess)\n",
    "    bot.update(current_guess, result)\n",
    "    print(f\"| Bot guessed '{current_guess}'\")\n",
    "    print(f\"| Result: {result}\")\n"
   ]
  },
  {
   "cell_type": "markdown",
   "metadata": {},
   "source": [
    "Reviewing the game log, we can see one of the biggest challenges for FrequencyBot.\n",
    "\n",
    "It actually got 4 out of 5 letters of the word after the first guess, but \".ater\" is such a common sequence in English words and there are numerous possible letters to fill the first position. \n",
    "\n",
    "FrequencyBot works its way naively through each possible letter from most-to-least frequent."
   ]
  },
  {
   "cell_type": "code",
   "execution_count": 9,
   "metadata": {},
   "outputs": [
    {
     "data": {
      "text/plain": [
       "[Text(0, 1, '')]"
      ]
     },
     "execution_count": 9,
     "metadata": {},
     "output_type": "execute_result"
    },
    {
     "data": {
      "image/png": "[encoded data removed]",
      "text/plain": [
       "<Figure size 576x360 with 2 Axes>"
      ]
     },
     "metadata": {
      "needs_background": "light"
     },
     "output_type": "display_data"
    }
   ],
   "source": [
    "fig, ax = plt.subplots(2, 1, figsize=(8, 5), gridspec_kw={\n",
    "                       'height_ratios': [3, 1]})\n",
    "\n",
    "results[\"n_guesses\"].hist(\n",
    "    bins=range(1, results[\"n_guesses\"].max()+1),\n",
    "    align=\"left\",\n",
    "    rwidth=.8,\n",
    "    ax=ax[0]\n",
    ")\n",
    "\n",
    "results.boxplot(\n",
    "    column=\"n_guesses\",\n",
    "    ax=ax[1],\n",
    "    vert=False,\n",
    "    grid=False\n",
    ")\n",
    "\n",
    "ax[0].set_title(\"Frequency Bot performance (5 letters)\")\n",
    "ax[0].set_ylabel(\"# words\")\n",
    "ax[0].set_xticks(range(0, results[\"n_guesses\"].max()+2))\n",
    "ax[0].grid(axis='x')\n",
    "\n",
    "ax[1].set_xlabel(\"# guesses to solve\")\n",
    "ax[1].set_xticks(range(0, results[\"n_guesses\"].max()+2))\n",
    "ax[1].set_yticklabels(\"\")\n"
   ]
  },
  {
   "cell_type": "markdown",
   "metadata": {},
   "source": [
    "The above plot gives a better sense of the number of moves it takes for FrequencyBot to solve Wordle. The distribution is heavily centred around __4 moves__.\n",
    "\n",
    "But let's say we want to know how often FrequencyBot can successfully solve Wordle regardless of the number of moves?"
   ]
  },
  {
   "cell_type": "code",
   "execution_count": 10,
   "metadata": {},
   "outputs": [
    {
     "data": {
      "text/plain": [
       "<AxesSubplot:title={'center':'Solved Successfully'}, ylabel='solved'>"
      ]
     },
     "execution_count": 10,
     "metadata": {},
     "output_type": "execute_result"
    },
    {
     "data": {
      "image/png": "[encoded data removed]",
      "text/plain": [
       "<Figure size 576x360 with 1 Axes>"
      ]
     },
     "metadata": {},
     "output_type": "display_data"
    }
   ],
   "source": [
    "results[\"solved\"] = results[\"n_guesses\"] <= 6\n",
    "\n",
    "fig, ax = plt.subplots(1, 1, figsize=(8, 5))\n",
    "\n",
    "ax.set_title(\"Solved Successfully\")\n",
    "\n",
    "results[\"solved\"].value_counts().plot.pie(ax=ax, autopct='%1.1f%%')\n"
   ]
  },
  {
   "cell_type": "markdown",
   "metadata": {},
   "source": [
    "Yep! __98 percent__ of the time, FrequencyBot can solve Wordle.\n",
    "\n",
    "I don't know about you, but I personally find Wordle very challenging, so it's nice to know FrequencyBot has my back :D"
   ]
  },
  {
   "cell_type": "markdown",
   "metadata": {},
   "source": [
    "### 4 Letter Words\n",
    "\n",
    "Let's take a quick peek at how Wordle does for a simpler(?) case... 4 letter words.\n",
    "\n",
    "There are fewer 4 letter words than 5 letter words, so the search space is smaller."
   ]
  },
  {
   "cell_type": "code",
   "execution_count": 11,
   "metadata": {},
   "outputs": [
    {
     "name": "stdout",
     "output_type": "stream",
     "text": [
      "2196\n"
     ]
    },
    {
     "data": {
      "text/plain": [
       "count    2196.000000\n",
       "mean        5.253188\n",
       "std         1.751436\n",
       "min         1.000000\n",
       "25%         4.000000\n",
       "50%         5.000000\n",
       "75%         6.000000\n",
       "max        13.000000\n",
       "Name: n_guesses, dtype: float64"
      ]
     },
     "execution_count": 11,
     "metadata": {},
     "output_type": "execute_result"
    }
   ],
   "source": [
    "stats = defaultdict(int)\n",
    "words = {w for w in english_words_lower_set if len(\n",
    "    w) == 4 and re.match(r'^\\w+$', w)}\n",
    "print(len(words))\n",
    "\n",
    "for w in words:\n",
    "    wdl = Wordle(w)\n",
    "    bot = FrequencyBot(n_char=len(w))\n",
    "\n",
    "    current_guess = None\n",
    "\n",
    "    while current_guess != wdl.solution:\n",
    "        current_guess = bot.predict()[0][0]\n",
    "        result = wdl.guess(current_guess)\n",
    "        bot.update(current_guess, result)\n",
    "\n",
    "    stats[w] = {\n",
    "        \"n_guesses\": len(wdl.guesses)\n",
    "    }\n",
    "\n",
    "results = pd.DataFrame.from_dict(stats, orient='index')\n",
    "results[\"n_guesses\"].describe()\n"
   ]
  },
  {
   "cell_type": "markdown",
   "metadata": {},
   "source": [
    "Uh oh! Looks like FrequencyBot struggles more with 4 letter words. It takes an average of __5 moves__ to solve a 4-letter Wordle."
   ]
  },
  {
   "cell_type": "code",
   "execution_count": 12,
   "metadata": {},
   "outputs": [
    {
     "data": {
      "text/plain": [
       "[Text(0, 1, '')]"
      ]
     },
     "execution_count": 12,
     "metadata": {},
     "output_type": "execute_result"
    },
    {
     "data": {
      "image/png": "[encoded data removed]",
      "text/plain": [
       "<Figure size 576x360 with 2 Axes>"
      ]
     },
     "metadata": {
      "needs_background": "light"
     },
     "output_type": "display_data"
    }
   ],
   "source": [
    "fig, ax = plt.subplots(2, 1, figsize=(8, 5), gridspec_kw={\n",
    "                       'height_ratios': [3, 1]})\n",
    "\n",
    "results[\"n_guesses\"].hist(\n",
    "    bins=range(1, results[\"n_guesses\"].max()+1),\n",
    "    align=\"left\",\n",
    "    rwidth=.8,\n",
    "    ax=ax[0]\n",
    ")\n",
    "\n",
    "results.boxplot(\n",
    "    column=\"n_guesses\",\n",
    "    ax=ax[1],\n",
    "    vert=False,\n",
    "    grid=False\n",
    ")\n",
    "\n",
    "ax[0].set_title(\"Frequency Bot performance (4 letters)\")\n",
    "ax[0].set_ylabel(\"# words\")\n",
    "ax[0].set_xticks(range(0, results[\"n_guesses\"].max()+2))\n",
    "ax[0].grid(axis='x')\n",
    "\n",
    "ax[1].set_xlabel(\"# guesses to solve\")\n",
    "ax[1].set_xticks(range(0, results[\"n_guesses\"].max()+2))\n",
    "ax[1].set_yticklabels(\"\")\n"
   ]
  },
  {
   "cell_type": "code",
   "execution_count": 13,
   "metadata": {},
   "outputs": [
    {
     "data": {
      "text/plain": [
       "<AxesSubplot:title={'center':'Solved Successfully'}, ylabel='solved'>"
      ]
     },
     "execution_count": 13,
     "metadata": {},
     "output_type": "execute_result"
    },
    {
     "data": {
      "image/png": "[encoded data removed]",
      "text/plain": [
       "<Figure size 576x360 with 1 Axes>"
      ]
     },
     "metadata": {},
     "output_type": "display_data"
    }
   ],
   "source": [
    "results[\"solved\"] = results[\"n_guesses\"] <= 6\n",
    "\n",
    "fig, ax = plt.subplots(1, 1, figsize=(8, 5))\n",
    "\n",
    "ax.set_title(\"Solved Successfully\")\n",
    "\n",
    "results[\"solved\"].value_counts().plot.pie(ax=ax, autopct='%1.1f%%')\n"
   ]
  },
  {
   "cell_type": "markdown",
   "metadata": {},
   "source": [
    "FrequencyBot can only solve about 80% of 4-letter Wordles.\n",
    "\n",
    "We might explain this with the fact that with shorter words there is less information to be gotten from each guess."
   ]
  },
  {
   "cell_type": "markdown",
   "metadata": {},
   "source": [
    "### 6 Letter Words\n",
    "\n",
    "If our hunch about 4-letter words is right, we might expect FrequencyBot to do better on longer Wordles.\n",
    "\n",
    "Let's look at 6 letter words (of which there are 3890)"
   ]
  },
  {
   "cell_type": "code",
   "execution_count": 14,
   "metadata": {},
   "outputs": [
    {
     "name": "stdout",
     "output_type": "stream",
     "text": [
      "3890\n"
     ]
    },
    {
     "data": {
      "text/plain": [
       "count    3890.000000\n",
       "mean        3.505141\n",
       "std         0.809496\n",
       "min         1.000000\n",
       "25%         3.000000\n",
       "50%         3.000000\n",
       "75%         4.000000\n",
       "max         7.000000\n",
       "Name: n_guesses, dtype: float64"
      ]
     },
     "execution_count": 14,
     "metadata": {},
     "output_type": "execute_result"
    }
   ],
   "source": [
    "stats = defaultdict(int)\n",
    "words = {w for w in english_words_lower_set if len(\n",
    "    w) == 6 and re.match(r'^\\w+$', w)}\n",
    "print(len(words))\n",
    "\n",
    "for w in words:\n",
    "    wdl = Wordle(w)\n",
    "    bot = FrequencyBot(n_char=len(w))\n",
    "\n",
    "    current_guess = None\n",
    "\n",
    "    while current_guess != wdl.solution:\n",
    "        current_guess = bot.predict()[0][0]\n",
    "        result = wdl.guess(current_guess)\n",
    "        bot.update(current_guess, result)\n",
    "\n",
    "    stats[w] = {\n",
    "        \"n_guesses\": len(wdl.guesses)\n",
    "    }\n",
    "\n",
    "results = pd.DataFrame.from_dict(stats, orient='index')\n",
    "results[\"n_guesses\"].describe()\n"
   ]
  },
  {
   "cell_type": "markdown",
   "metadata": {},
   "source": [
    "Sure enough, FrequencyBot's performance is even better than the 5-letter case!\n",
    "\n",
    "The hardest Wordle only took 7 guesses. I wonder if it's __taters__??"
   ]
  },
  {
   "cell_type": "code",
   "execution_count": 15,
   "metadata": {},
   "outputs": [
    {
     "data": {
      "text/html": [
       "<div>\n",
       "<style scoped>\n",
       "    .dataframe tbody tr th:only-of-type {\n",
       "        vertical-align: middle;\n",
       "    }\n",
       "\n",
       "    .dataframe tbody tr th {\n",
       "        vertical-align: top;\n",
       "    }\n",
       "\n",
       "    .dataframe thead th {\n",
       "        text-align: right;\n",
       "    }\n",
       "</style>\n",
       "<table border=\"1\" class=\"dataframe\">\n",
       "  <thead>\n",
       "    <tr style=\"text-align: right;\">\n",
       "      <th></th>\n",
       "      <th>n_guesses</th>\n",
       "    </tr>\n",
       "  </thead>\n",
       "  <tbody>\n",
       "    <tr>\n",
       "      <th>bobble</th>\n",
       "      <td>7</td>\n",
       "    </tr>\n",
       "    <tr>\n",
       "      <th>bumble</th>\n",
       "      <td>7</td>\n",
       "    </tr>\n",
       "    <tr>\n",
       "      <th>deride</th>\n",
       "      <td>7</td>\n",
       "    </tr>\n",
       "    <tr>\n",
       "      <th>farley</th>\n",
       "      <td>7</td>\n",
       "    </tr>\n",
       "    <tr>\n",
       "      <th>giggle</th>\n",
       "      <td>7</td>\n",
       "    </tr>\n",
       "    <tr>\n",
       "      <th>strike</th>\n",
       "      <td>7</td>\n",
       "    </tr>\n",
       "    <tr>\n",
       "      <th>stroke</th>\n",
       "      <td>7</td>\n",
       "    </tr>\n",
       "  </tbody>\n",
       "</table>\n",
       "</div>"
      ],
      "text/plain": [
       "        n_guesses\n",
       "bobble          7\n",
       "bumble          7\n",
       "deride          7\n",
       "farley          7\n",
       "giggle          7\n",
       "strike          7\n",
       "stroke          7"
      ]
     },
     "execution_count": 15,
     "metadata": {},
     "output_type": "execute_result"
    }
   ],
   "source": [
    "results[results[\"n_guesses\"] == 7]\n"
   ]
  },
  {
   "cell_type": "markdown",
   "metadata": {},
   "source": [
    "Sadly, no, taters wasn't one of them.\n",
    "\n",
    "However, we can see a pattern emerge where many of these \"difficult\" words involve repeated letters.\n",
    "\n",
    "This might stem from the fact that Wordle doesn't indicate how many times a letter appears in a word, only whether it's 1) in the word at all, and 2) whether it's in the guessed position or not.\n",
    "\n",
    "This makes identifying words with repeated letters more difficult, not just for FrequencyBot, but for humans too since there's a bias to try _unused_ letters to weed out candidates."
   ]
  },
  {
   "cell_type": "code",
   "execution_count": 16,
   "metadata": {},
   "outputs": [
    {
     "data": {
      "text/plain": [
       "[Text(0, 1, '')]"
      ]
     },
     "execution_count": 16,
     "metadata": {},
     "output_type": "execute_result"
    },
    {
     "data": {
      "image/png": "[encoded data removed]",
      "text/plain": [
       "<Figure size 576x360 with 2 Axes>"
      ]
     },
     "metadata": {
      "needs_background": "light"
     },
     "output_type": "display_data"
    }
   ],
   "source": [
    "fig, ax = plt.subplots(2, 1, figsize=(8, 5), gridspec_kw={\n",
    "                       'height_ratios': [3, 1]})\n",
    "\n",
    "results[\"n_guesses\"].hist(\n",
    "    bins=range(1, results[\"n_guesses\"].max()+1),\n",
    "    align=\"left\",\n",
    "    rwidth=.8,\n",
    "    ax=ax[0]\n",
    ")\n",
    "\n",
    "results.boxplot(\n",
    "    column=\"n_guesses\",\n",
    "    ax=ax[1],\n",
    "    vert=False,\n",
    "    grid=False\n",
    ")\n",
    "\n",
    "ax[0].set_title(\"Frequency Bot performance (6 letters)\")\n",
    "ax[0].set_ylabel(\"# words\")\n",
    "ax[0].set_xticks(range(0, results[\"n_guesses\"].max()+2))\n",
    "ax[0].grid(axis='x')\n",
    "\n",
    "ax[1].set_xlabel(\"# guesses to solve\")\n",
    "ax[1].set_xticks(range(0, results[\"n_guesses\"].max()+2))\n",
    "ax[1].set_yticklabels(\"\")\n"
   ]
  },
  {
   "cell_type": "code",
   "execution_count": 17,
   "metadata": {},
   "outputs": [
    {
     "data": {
      "text/plain": [
       "<AxesSubplot:title={'center':'Solved Successfully'}, ylabel='solved'>"
      ]
     },
     "execution_count": 17,
     "metadata": {},
     "output_type": "execute_result"
    },
    {
     "data": {
      "image/png": "[encoded data removed]",
      "text/plain": [
       "<Figure size 576x360 with 1 Axes>"
      ]
     },
     "metadata": {},
     "output_type": "display_data"
    }
   ],
   "source": [
    "results[\"solved\"] = results[\"n_guesses\"] <= 6\n",
    "\n",
    "fig, ax = plt.subplots(1, 1, figsize=(8, 5))\n",
    "\n",
    "ax.set_title(\"Solved Successfully\")\n",
    "\n",
    "results[\"solved\"].value_counts().plot.pie(ax=ax, autopct='%1.1f%%')\n"
   ]
  },
  {
   "cell_type": "markdown",
   "metadata": {},
   "source": [
    "And there we have it:\n",
    "\n",
    "FrequencyBot can solve __99.8%__ of 6-letter Wordles!"
   ]
  },
  {
   "cell_type": "code",
   "execution_count": null,
   "metadata": {},
   "outputs": [],
   "source": []
  }
 ],
 "metadata": {
  "interpreter": {
   "hash": "63fd5069d213b44bf678585dea6b12cceca9941eaf7f819626cde1f2670de90d"
  },
  "kernelspec": {
   "display_name": "wordle-bot",
   "language": "python",
   "name": "wordle-bot"
  },
  "language_info": {
   "codemirror_mode": {
    "name": "ipython",
    "version": 3
   },
   "file_extension": ".py",
   "mimetype": "text/x-python",
   "name": "python",
   "nbconvert_exporter": "python",
   "pygments_lexer": "ipython3",
   "version": "3.9.4"
  },
  "orig_nbformat": 4
 },
 "nbformat": 4,
 "nbformat_minor": 2
}
